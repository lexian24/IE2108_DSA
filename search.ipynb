{
 "cells": [
  {
   "cell_type": "markdown",
   "metadata": {},
   "source": [
    "# Dijkstra's Algo (shortes path)"
   ]
  },
  {
   "cell_type": "code",
   "execution_count": 8,
   "metadata": {},
   "outputs": [
    {
     "name": "stdout",
     "output_type": "stream",
     "text": [
      "Original Graph (adjacency list):\n",
      "{0: {1: 2, 2: 6}, 1: {0: 2, 3: 7, 5: 8}, 2: {0: 6, 3: 4}, 3: {1: 7, 2: 4, 4: 2}, 4: {3: 2, 5: 3}, 5: {1: 8, 4: 3}}\n",
      "\n",
      "Shortest path tree from source vertex 0 as represented by parent[]:\n",
      "parent[0] = -1\n",
      "parent[1] = 0\n",
      "parent[2] = 0\n",
      "parent[3] = 1\n",
      "parent[4] = 3\n",
      "parent[5] = 1\n",
      "\n",
      "Shortest distances from source vertex 0:\n",
      "Shortest distance from 0 to 0: 0\n",
      "Shortest distance from 0 to 1: 2\n",
      "Shortest distance from 0 to 2: 6\n",
      "Shortest distance from 0 to 3: 9\n",
      "Shortest distance from 0 to 4: 11\n",
      "Shortest distance from 0 to 5: 10\n"
     ]
    }
   ],
   "source": [
    "import heapq \n",
    "\n",
    "class Graph:\n",
    "    def __init__(self, graph):\n",
    "        self.adjacency_list = graph\n",
    "\n",
    "    def dijkstra(self, src):\n",
    "        V = len(self.adjacency_list)\n",
    "        distances = [float('inf')] * V\n",
    "        distances[src] = 0\n",
    "        priority_queue = [(0, src)]\n",
    "        parent = [-1] * V  \n",
    "        visited = set()     \n",
    "\n",
    "        while priority_queue:\n",
    "            current_distance, current_node = heapq.heappop(priority_queue)\n",
    "            if current_node in visited:\n",
    "                continue\n",
    "            visited.add(current_node)\n",
    "\n",
    "            for neighbor, weight in self.adjacency_list[current_node].items():\n",
    "                if neighbor not in visited:\n",
    "                    distance = current_distance + weight\n",
    "\n",
    "                    if distance < distances[neighbor]:\n",
    "                        distances[neighbor] = distance\n",
    "                        parent[neighbor] = current_node\n",
    "                        heapq.heappush(priority_queue, (distance, neighbor))\n",
    "\n",
    "        return distances, parent\n",
    "\n",
    "graph = {\n",
    "    0: {1: 2, 2: 6},\n",
    "    1: {0:2, 3:7, 5:8},\n",
    "    2: {0: 6, 3: 4},\n",
    "    3: {1: 7, 2: 4, 4: 2},\n",
    "    4: {3: 2, 5: 3},\n",
    "    5: {1: 8, 4: 3}\n",
    "}\n",
    "\n",
    "source_vertex = 0\n",
    "g = Graph(graph)\n",
    "shortest_distances, parent = g.dijkstra(source_vertex)\n",
    "\n",
    "print(\"Original Graph (adjacency list):\")\n",
    "print(graph)\n",
    "\n",
    "print(f\"\\nShortest path tree from source vertex {source_vertex} as represented by parent[]:\")\n",
    "for i in range(len(parent)):\n",
    "    print(f\"parent[{i}] = {parent[i]}\")\n",
    "\n",
    "print(f\"\\nShortest distances from source vertex {source_vertex}:\")\n",
    "for i, distance in enumerate(shortest_distances):\n",
    "    print(f\"Shortest distance from {source_vertex} to {i}: {distance}\")\n",
    "            "
   ]
  },
  {
   "cell_type": "markdown",
   "metadata": {},
   "source": [
    "# Kruskal's Algo (minimum spanning tree)"
   ]
  },
  {
   "cell_type": "code",
   "execution_count": 9,
   "metadata": {},
   "outputs": [
    {
     "name": "stdout",
     "output_type": "stream",
     "text": [
      "Minimum Spanning Tree (Kruskal's Algorithm with Disjoint-Set):\n",
      "Edge: 2 - 3, Weight: 1\n",
      "Edge: 0 - 2, Weight: 2\n",
      "Edge: 4 - 5, Weight: 2\n",
      "Edge: 0 - 4, Weight: 3\n",
      "Edge: 0 - 1, Weight: 4\n"
     ]
    }
   ],
   "source": [
    "class DisjointSet:\n",
    "    def __init__(self,vertices):\n",
    "        self.parent = [-1]*vertices\n",
    "    \n",
    "    def find(self,node):\n",
    "        if self.parent[node] == -1:\n",
    "            return node\n",
    "        return self.find(self.parent[node])\n",
    "    \n",
    "    def union(self,x,y):\n",
    "        x_head = self.find(x)\n",
    "        y_head = self.find(y)\n",
    "        if x_head != y_head:\n",
    "            self.parent[x_head] = y_head\n",
    "\n",
    "class Graph:\n",
    "    def __init__(self, vertices):\n",
    "        self.V = vertices\n",
    "        self.adjacency_list = []\n",
    "\n",
    "    def add_edge(self, u, v, weight):\n",
    "        self.adjacency_list.append((u, v, weight))\n",
    "\n",
    "    def kruskal(self):\n",
    "        self.adjacency_list.sort(key=lambda x: x[2])\n",
    "        disjoint_set = DisjointSet(self.V)\n",
    "        mst = []\n",
    "\n",
    "        for edges in self.adjacency_list:\n",
    "            u, v, weight = edges\n",
    "            u_head = disjoint_set.find(u)\n",
    "            v_head = disjoint_set.find(v)\n",
    "\n",
    "            if u_head != v_head:\n",
    "                mst.append((u, v, weight))\n",
    "                disjoint_set.union(u, v)\n",
    "\n",
    "        return mst\n",
    "    \n",
    "graph = Graph(6)\n",
    "graph.add_edge(0, 1, 4)\n",
    "graph.add_edge(0, 2, 2)\n",
    "graph.add_edge(0, 4, 3)\n",
    "graph.add_edge(1, 3, 5)\n",
    "graph.add_edge(2, 3, 1)\n",
    "graph.add_edge(2, 4, 6)\n",
    "graph.add_edge(2, 5, 3)\n",
    "graph.add_edge(3, 5, 6)\n",
    "graph.add_edge(4, 5, 2)\n",
    "\n",
    "print(\"Minimum Spanning Tree (Kruskal's Algorithm with Disjoint-Set):\")\n",
    "minimum_spanning_tree = graph.kruskal()\n",
    "\n",
    "for edge in minimum_spanning_tree:\n",
    "    u, v, weight = edge\n",
    "    print(f\"Edge: {u} - {v}, Weight: {weight}\")"
   ]
  }
 ],
 "metadata": {
  "kernelspec": {
   "display_name": "Python 3",
   "language": "python",
   "name": "python3"
  },
  "language_info": {
   "codemirror_mode": {
    "name": "ipython",
    "version": 3
   },
   "file_extension": ".py",
   "mimetype": "text/x-python",
   "name": "python",
   "nbconvert_exporter": "python",
   "pygments_lexer": "ipython3",
   "version": "3.11.0"
  }
 },
 "nbformat": 4,
 "nbformat_minor": 2
}

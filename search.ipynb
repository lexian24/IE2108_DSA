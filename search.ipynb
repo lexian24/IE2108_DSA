{
 "cells": [
  {
   "cell_type": "markdown",
   "metadata": {},
   "source": [
    "# Kruskal's Algo (minimum spanning tree)"
   ]
  },
  {
   "cell_type": "code",
   "execution_count": 15,
   "metadata": {},
   "outputs": [],
   "source": [
    "class DisjointSet:\n",
    "    def __init__(self,vertices):\n",
    "        self.parent = [-1]*vertices\n",
    "    \n",
    "    def find(self,node):\n",
    "        if self.parent[node] == -1:\n",
    "            return node\n",
    "        return self.find(self.parent[node])\n",
    "    \n",
    "    def union(self,x,y):\n",
    "        x_head = self.find(x)\n",
    "        y_head = self.find(y)\n",
    "        if x_head != y_head:\n",
    "            self.parent[x_head] = y_head\n",
    "\n",
    "class Graph:\n",
    "    def __init__(self, vertices):\n",
    "        self.V = vertices\n",
    "        self.adjacency_list = []\n",
    "\n",
    "    def add_edge(self, u, v, weight):\n",
    "        self.adjacency_list.append((u, v, weight))\n",
    "\n",
    "    def kruskal(self):\n",
    "        self.adjacency_list.sort(key=lambda x: x[2])\n",
    "        disjoint_set = DisjointSet(self.V)\n",
    "        mst = []\n",
    "\n",
    "        for edges in self.adjacency_list:\n",
    "            u, v, weight = edges\n",
    "            u_head = disjoint_set.find(u)\n",
    "            v_head = disjoint_set.find(v)\n",
    "\n",
    "            if u_head != v_head:\n",
    "                mst.append((u, v, weight))\n",
    "                disjoint_set.union(u, v)\n",
    "\n",
    "        return mst"
   ]
  },
  {
   "cell_type": "code",
   "execution_count": 16,
   "metadata": {},
   "outputs": [
    {
     "name": "stdout",
     "output_type": "stream",
     "text": [
      "Minimum Spanning Tree (Kruskal's Algorithm with Disjoint-Set):\n",
      "Edge: 2 - 3, Weight: 1\n",
      "Edge: 0 - 2, Weight: 2\n",
      "Edge: 4 - 5, Weight: 2\n",
      "Edge: 0 - 4, Weight: 3\n",
      "Edge: 0 - 1, Weight: 4\n"
     ]
    }
   ],
   "source": [
    "graph = Graph(6)\n",
    "graph.add_edge(0, 1, 4)\n",
    "graph.add_edge(0, 2, 2)\n",
    "graph.add_edge(0, 4, 3)\n",
    "graph.add_edge(1, 3, 5)\n",
    "graph.add_edge(2, 3, 1)\n",
    "graph.add_edge(2, 4, 6)\n",
    "graph.add_edge(2, 5, 3)\n",
    "graph.add_edge(3, 5, 6)\n",
    "graph.add_edge(4, 5, 2)\n",
    "\n",
    "print(\"Minimum Spanning Tree (Kruskal's Algorithm with Disjoint-Set):\")\n",
    "minimum_spanning_tree = graph.kruskal()\n",
    "\n",
    "for edge in minimum_spanning_tree:\n",
    "    u, v, weight = edge\n",
    "    print(f\"Edge: {u} - {v}, Weight: {weight}\")"
   ]
  },
  {
   "cell_type": "code",
   "execution_count": null,
   "metadata": {},
   "outputs": [],
   "source": []
  }
 ],
 "metadata": {
  "kernelspec": {
   "display_name": "Python 3",
   "language": "python",
   "name": "python3"
  },
  "language_info": {
   "codemirror_mode": {
    "name": "ipython",
    "version": 3
   },
   "file_extension": ".py",
   "mimetype": "text/x-python",
   "name": "python",
   "nbconvert_exporter": "python",
   "pygments_lexer": "ipython3",
   "version": "3.11.0"
  }
 },
 "nbformat": 4,
 "nbformat_minor": 2
}

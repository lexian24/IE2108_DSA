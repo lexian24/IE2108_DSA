{
 "cells": [
  {
   "cell_type": "markdown",
   "metadata": {},
   "source": [
    "# Traversal order"
   ]
  },
  {
   "cell_type": "markdown",
   "metadata": {},
   "source": [
    "### Preorder"
   ]
  },
  {
   "cell_type": "code",
   "execution_count": null,
   "metadata": {},
   "outputs": [],
   "source": [
    "def preorder(root):\n",
    "    order = []\n",
    "    if root:\n",
    "        order.append(root.data)\n",
    "        order = order + preorder(root.left)\n",
    "        order = order + preorder(root.right)\n",
    "    return order"
   ]
  },
  {
   "cell_type": "markdown",
   "metadata": {},
   "source": [
    "### Inorder"
   ]
  },
  {
   "cell_type": "code",
   "execution_count": null,
   "metadata": {},
   "outputs": [],
   "source": [
    "def inorder(root):\n",
    "    order = []\n",
    "    if root:\n",
    "        order = inorder(root.left)\n",
    "        order.append(root.data)\n",
    "        order = order + inorder(root.right)\n",
    "    return order"
   ]
  },
  {
   "cell_type": "markdown",
   "metadata": {},
   "source": [
    "### Postorder"
   ]
  },
  {
   "cell_type": "code",
   "execution_count": null,
   "metadata": {},
   "outputs": [],
   "source": [
    "def postorder(root):\n",
    "    order = []\n",
    "    if root:\n",
    "        order = postorder(root.left)\n",
    "        order = order + postorder(root.right)\n",
    "        order.append(root.data)\n",
    "    return order"
   ]
  },
  {
   "cell_type": "markdown",
   "metadata": {},
   "source": [
    "# BST"
   ]
  },
  {
   "cell_type": "markdown",
   "metadata": {},
   "source": [
    "### BST insert"
   ]
  },
  {
   "cell_type": "code",
   "execution_count": 6,
   "metadata": {},
   "outputs": [
    {
     "name": "stdout",
     "output_type": "stream",
     "text": [
      "Initial Tree (Inorder Traversal):\n",
      "3 6 7 15 15 17 18 19 \n",
      "\n",
      "Resultant Tree (Inorder Traversal):\n",
      "3 6 7 15 15 16 17 18 19 "
     ]
    }
   ],
   "source": [
    "class TreeNode:\n",
    "    def __init__(self, node):\n",
    "        self.value = node\n",
    "        self.left = None\n",
    "        self.right = None\n",
    "    \n",
    "def insert_recur(root, temp):\n",
    "    if temp.value <= root.value:\n",
    "        if root.left:\n",
    "            insert_recur(root.left, temp)\n",
    "        else:\n",
    "            root.left = temp\n",
    "    else :\n",
    "        if root.right:\n",
    "            insert_recur(root.right, temp)\n",
    "        else:\n",
    "            root.right = temp\n",
    "        \n",
    "def print_inorder(root):\n",
    "    if root:\n",
    "        print_inorder(root.left)\n",
    "        print(root.value, end = ' ')\n",
    "        print_inorder(root.right)\n",
    "    \n",
    "root = TreeNode(15)\n",
    "root.left = TreeNode(6)\n",
    "root.right = TreeNode(18)\n",
    "root.left.left = TreeNode(3)\n",
    "root.left.right = TreeNode(7)\n",
    "root.right.left = TreeNode(15)\n",
    "root.right.right = TreeNode(19)\n",
    "root.right.left.right = TreeNode(17)\n",
    "\n",
    "# Print the initial tree (inorder traversal)\n",
    "print(\"Initial Tree (Inorder Traversal):\")\n",
    "print_inorder(root)\n",
    "print(\"\\n\")\n",
    "# Create a new node with value 16\n",
    "new_node = TreeNode(16)\n",
    "# Insert the new node into the binary search tree\n",
    "insert_recur(root, new_node)\n",
    "# Print the resultant tree (inorder traversal)\n",
    "print(\"Resultant Tree (Inorder Traversal):\")\n",
    "print_inorder(root)"
   ]
  },
  {
   "cell_type": "markdown",
   "metadata": {},
   "source": [
    "### BFS deletion"
   ]
  },
  {
   "cell_type": "code",
   "execution_count": 30,
   "metadata": {},
   "outputs": [
    {
     "name": "stdout",
     "output_type": "stream",
     "text": [
      "Initial BST:\n",
      "20 25 30 50 60 75 80 100 110 125 140 150 160 175 180 \n",
      "Updated BST:\n",
      "20 25 50 60 75 80 100 110 125 140 150 160 175 180 "
     ]
    }
   ],
   "source": [
    "class Node:\n",
    "    def __init__(self, key):\n",
    "        self.left = None\n",
    "        self.right = None\n",
    "        self.val = key\n",
    "\n",
    "def delete_node(root, key):\n",
    "    if root is None:\n",
    "        return root\n",
    "    if key < root.val:\n",
    "        root.left = delete_node(root.left, key)\n",
    "    elif key > root.val:\n",
    "        root.right = delete_node(root.right, key)\n",
    "    else:\n",
    "        if root.left is None:\n",
    "            return root.right\n",
    "        elif root.right is None:\n",
    "            return root.left\n",
    "        temp = min_value_node(root.right)\n",
    "        root.val = temp.val\n",
    "        root.right = delete_node(root.right, temp.val)\n",
    "    return root\n",
    "\n",
    "def min_value_node(node):\n",
    "    current = node\n",
    "    while(current.left is not None):\n",
    "        current = current.left\n",
    "    return current\n",
    "\n",
    "# Example BST\n",
    "root = Node(100)\n",
    "root.left = Node(50)\n",
    "root.right = Node(150)\n",
    "root.left.left = Node(25)\n",
    "root.left.right = Node(75)\n",
    "root.right.left = Node(125)\n",
    "root.right.right = Node(175)\n",
    "root.left.left.left = Node(20)\n",
    "root.left.left.right = Node(30)\n",
    "root.left.right.left = Node(60)\n",
    "root.left.right.right = Node(80)\n",
    "root.right.left.left = Node(110)\n",
    "root.right.left.right = Node(140)\n",
    "root.right.right.left = Node(160)\n",
    "root.right.right.right = Node(180)\n",
    "\n",
    "# Print the initial BST\n",
    "def print_in_order(root):\n",
    "    if root:\n",
    "        print_in_order(root.left)\n",
    "        print(root.val, end = ' ')\n",
    "        print_in_order(root.right)\n",
    "\n",
    "print(\"Initial BST:\")\n",
    "print_in_order(root)\n",
    "\n",
    "# Delete a node (e.g., 30)\n",
    "root = delete_node(root, 30)\n",
    "\n",
    "# Print the updated BST\n",
    "print(\"\\nUpdated BST:\")\n",
    "print_in_order(root)"
   ]
  },
  {
   "cell_type": "markdown",
   "metadata": {},
   "source": [
    "# MergeSort"
   ]
  },
  {
   "cell_type": "code",
   "execution_count": 1,
   "metadata": {},
   "outputs": [
    {
     "name": "stdout",
     "output_type": "stream",
     "text": [
      "[5, 2, 8, 1, 9, 3]\n",
      "[1, 2, 3, 5, 8, 9]\n"
     ]
    }
   ],
   "source": [
    "def mergesort(A, i, j):\n",
    "    if i == j:\n",
    "        return\n",
    "    m = int((i + j)/ 2)\n",
    "    mergesort(A, i, m)\n",
    "    mergesort(A, m + 1, j)\n",
    "    merge(A, i, m, j)\n",
    "\n",
    "def merge(A, i, m, j):\n",
    "    left = A[i:m+1]\n",
    "    right = A[m+1:j+1]\n",
    "    k = i\n",
    "    x = 0\n",
    "    y = 0\n",
    "    while x < len(left) and y < len(right):\n",
    "        if left[x] < right[y]:\n",
    "            A[k] = left[x]\n",
    "            x += 1\n",
    "        else:\n",
    "            A[k] = right[y]\n",
    "            y += 1\n",
    "        k += 1\n",
    "    while x < len(left):\n",
    "        A[k] = left[x]\n",
    "        x += 1\n",
    "        k += 1\n",
    "    while y < len(right):\n",
    "        A[k] = right[y]\n",
    "        y += 1\n",
    "        k += 1\n",
    "\n",
    "A = [5, 2, 8, 1, 9, 3]\n",
    "print(A)\n",
    "mergesort(A,0,5)\n",
    "print(A)  "
   ]
  },
  {
   "cell_type": "markdown",
   "metadata": {},
   "source": [
    "# MaxHeap"
   ]
  },
  {
   "cell_type": "markdown",
   "metadata": {},
   "source": [
    "### Heapify and Shift down"
   ]
  },
  {
   "cell_type": "code",
   "execution_count": 2,
   "metadata": {},
   "outputs": [
    {
     "name": "stdout",
     "output_type": "stream",
     "text": [
      "[24, 12, 8, 10, 7, 4, 2, 3, 6, 5]\n"
     ]
    }
   ],
   "source": [
    "def heapify(arr):\n",
    "    n = len(arr)\n",
    "    for i in range(n // 2, -1, -1):\n",
    "        shift_down(arr, i)\n",
    "    return arr\n",
    "\n",
    "def shift_down(arr, i):\n",
    "    n = len(arr) - 1\n",
    "    largest = i\n",
    "    left = 2 * i\n",
    "    right = 2 * i + 1\n",
    "    if left <= n and arr[largest] < arr[left]:\n",
    "        largest = left\n",
    "    if right <= n and arr[largest] < arr[right]:\n",
    "        largest = right\n",
    "    if largest != i:\n",
    "        arr[i], arr[largest] = arr[largest], arr[i]\n",
    "        shift_down(arr, largest)\n",
    "        \n",
    "my_list = [6,5,7,3,8,4,2,10,12,24]\n",
    "maxheap = heapify(my_list)\n",
    "print(maxheap)"
   ]
  },
  {
   "cell_type": "markdown",
   "metadata": {},
   "source": [
    "### Shift up"
   ]
  },
  {
   "cell_type": "code",
   "execution_count": 3,
   "metadata": {},
   "outputs": [],
   "source": [
    "def shiftup(A, i):\n",
    "    while i > 0:\n",
    "        parent = (i - 1) // 2\n",
    "        if A[i] > A[parent]:\n",
    "            A = swap(A, i, parent)\n",
    "            i = parent\n",
    "        else:\n",
    "            break\n",
    "    return A"
   ]
  },
  {
   "cell_type": "markdown",
   "metadata": {},
   "source": [
    "### Heapsort\n"
   ]
  },
  {
   "cell_type": "code",
   "execution_count": 5,
   "metadata": {},
   "outputs": [
    {
     "name": "stdout",
     "output_type": "stream",
     "text": [
      "Sorted array is\n",
      "2 3 4 5 6 7 8 10 12 24 50 "
     ]
    }
   ],
   "source": [
    "def heapify(arr, n, i):\n",
    "    largest = i  # Initialize largest as root\n",
    "    l = 2 * i + 1\n",
    "    r = 2 * i + 2\n",
    " \n",
    " # See if left child of root exists and is greater than root\n",
    "    if l < n and arr[i] < arr[l]:\n",
    "        largest = l\n",
    " # See if right child of root exists and is greater than root\n",
    "    if r < n and arr[largest] < arr[r]:\n",
    "        largest = r\n",
    " # Change root, if needed\n",
    "    if largest != i:\n",
    "        (arr[i], arr[largest]) = (arr[largest], arr[i])  # swap \n",
    "  # Heapify the root.\n",
    "        heapify(arr, n, largest)\n",
    " \n",
    "def heapSort(arr):\n",
    "    n = len(arr)\n",
    " # Build a maxheap.\n",
    " # Since last parent will be at (n//2) we can start at that location.\n",
    "    for i in range(n // 2, -1, -1):\n",
    "        heapify(arr, n, i)\n",
    " # One by one extract elements\n",
    "    for i in range(n - 1, -1, -1):\n",
    "        (arr[i], arr[0]) = (arr[0], arr[i])  # swap\n",
    "        heapify(arr, i, 0)\n",
    " \n",
    "my_list = [6,5,7,3,50,8,4,2,10,12,24]\n",
    "heapSort(my_list)\n",
    "n = len(my_list)\n",
    "print('Sorted array is')\n",
    "for i in range(n):\n",
    "    print(my_list[i], end = ' ')"
   ]
  },
  {
   "cell_type": "code",
   "execution_count": null,
   "metadata": {},
   "outputs": [],
   "source": []
  }
 ],
 "metadata": {
  "kernelspec": {
   "display_name": "Python 3",
   "language": "python",
   "name": "python3"
  },
  "language_info": {
   "codemirror_mode": {
    "name": "ipython",
    "version": 3
   },
   "file_extension": ".py",
   "mimetype": "text/x-python",
   "name": "python",
   "nbconvert_exporter": "python",
   "pygments_lexer": "ipython3",
   "version": "3.11.0"
  }
 },
 "nbformat": 4,
 "nbformat_minor": 2
}
